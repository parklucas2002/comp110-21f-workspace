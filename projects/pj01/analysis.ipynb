{
 "cells": [
  {
   "cell_type": "markdown",
   "metadata": {},
   "source": [
    "# Hypothesis\n",
    "\n",
    "### I think that the majority of the students in COMP 110 had less than one month of programming experience prior to enrolling in the class."
   ]
  },
  {
   "cell_type": "markdown",
   "metadata": {},
   "source": [
    "# Procedure"
   ]
  },
  {
   "cell_type": "markdown",
   "metadata": {},
   "source": [
    "First step: read the csv and convert it to a column-oriented table."
   ]
  },
  {
   "cell_type": "code",
   "execution_count": 9,
   "metadata": {},
   "outputs": [],
   "source": [
    "%reload_ext autoreload\n",
    "%autoreload 2\n",
    "\n",
    "from data_utils_2 import read_csv_rows, columnar\n",
    "\n",
    "data_rows: list[dict[str, str]] = read_csv_rows('../../data/survey.csv')\n",
    "columns: dict[str, list[str]] = columnar(data_rows)"
   ]
  },
  {
   "cell_type": "markdown",
   "metadata": {},
   "source": [
    "Next step: I must select just the prior experience column to measure our responses. Displayed are the first 10 rows of data."
   ]
  },
  {
   "cell_type": "code",
   "execution_count": 12,
   "metadata": {},
   "outputs": [
    {
     "data": {
      "text/plain": [
       "{'prior_exp': ['None to less than one month!',\n",
       "  'None to less than one month!',\n",
       "  'None to less than one month!',\n",
       "  'None to less than one month!',\n",
       "  'None to less than one month!',\n",
       "  'Over 2 years',\n",
       "  'None to less than one month!',\n",
       "  'None to less than one month!',\n",
       "  'None to less than one month!',\n",
       "  'None to less than one month!']}"
      ]
     },
     "execution_count": 12,
     "metadata": {},
     "output_type": "execute_result"
    }
   ],
   "source": [
    "from data_utils_2 import head, select\n",
    "\n",
    "subset: dict[str, list[str]] = select(columns, [\"prior_exp\"])\n",
    "head(subset, 10)"
   ]
  },
  {
   "cell_type": "markdown",
   "metadata": {},
   "source": [
    "Final step: Count up the totals each type of response (either less than two months, or greater than two months)."
   ]
  },
  {
   "cell_type": "code",
   "execution_count": 20,
   "metadata": {},
   "outputs": [
    {
     "name": "stdout",
     "output_type": "stream",
     "text": [
      "Less than 1 month total is: 403 \n",
      "More than 1 month total is: 170 \n"
     ]
    }
   ],
   "source": [
    "from data_utils_2 import count\n",
    "counts = count(subset[\"prior_exp\"])\n",
    "\n",
    "print(f\"Less than 1 month total is: {counts['None to less than one month!']} \")\n",
    "print(f\"More than 1 month total is: {counts['2-6 months'] + counts['7-12 months'] + counts['1-2 years'] + counts['Over 2 years']} \")"
   ]
  },
  {
   "cell_type": "markdown",
   "metadata": {},
   "source": [
    "A good way to represent this is through a percentage, so I will import a simple helper function that can calculate the percentage of students who had less than one month of programming experience using the values I collected in the last section."
   ]
  },
  {
   "cell_type": "code",
   "execution_count": 35,
   "metadata": {},
   "outputs": [
    {
     "name": "stdout",
     "output_type": "stream",
     "text": [
      "The percentage of students in COMP 110 who had less than one month of programming experience is: 70.33158813263525%. \n"
     ]
    }
   ],
   "source": [
    "from data_utils_2 import ratio\n",
    "\n",
    "print(f\"The percentage of students in COMP 110 who had less than one month of programming experience is: {ratio(403, 170)}%. \")"
   ]
  },
  {
   "cell_type": "markdown",
   "metadata": {},
   "source": [
    "# Conclusion\n",
    "\n",
    "### As shown by the data, more students had less than one month of programming experience prior to enrolling in COMP 110, at more than double the amount that had more than one month of programming experience. The percentage of students with less than one month of programming experience prior to taking COMP 110 is around 70.3%. This is likely due to the fact that COMP 110 is an entry-level class, designed for beginners."
   ]
  }
 ],
 "metadata": {
  "interpreter": {
   "hash": "aee8b7b246df8f9039afb4144a1f6fd8d2ca17a180786b69acc140d282b71a49"
  },
  "kernelspec": {
   "display_name": "Python 3.9.6 64-bit",
   "name": "python3"
  },
  "language_info": {
   "codemirror_mode": {
    "name": "ipython",
    "version": 3
   },
   "file_extension": ".py",
   "mimetype": "text/x-python",
   "name": "python",
   "nbconvert_exporter": "python",
   "pygments_lexer": "ipython3",
   "version": "3.9.6"
  },
  "orig_nbformat": 4
 },
 "nbformat": 4,
 "nbformat_minor": 2
}
